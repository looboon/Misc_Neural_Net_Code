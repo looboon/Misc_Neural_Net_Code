{
 "cells": [
  {
   "cell_type": "markdown",
   "metadata": {},
   "source": [
    "<h1>Code to run LSTM to predict stock prices</h1>"
   ]
  },
  {
   "cell_type": "code",
   "execution_count": null,
   "metadata": {
    "collapsed": false
   },
   "outputs": [],
   "source": [
    "from keras.models import Sequential\n",
    "from keras.layers import Dense, Activation, Dropout\n",
    "from keras.layers import LSTM\n",
    "from keras.optimizers import SGD\n",
    "from sklearn.preprocessing import MinMaxScaler\n",
    "import numpy as np\n",
    "import tensorflow as tf\n",
    "import matplotlib.pyplot as plt\n",
    "\n",
    "filepath=\"C://Users//421250//Downloads//googl-1.csv\"\n",
    "\n",
    "google_training = tf.train.string_input_producer([filepath])\n",
    "reader = tf.TextLineReader()\n",
    "k,v = reader.read(google_training)\n",
    "record_defaults = [[\"1.00\"],[\"1.00\"],[\"1.00\"],[\"1.00\"],[\"1.00\"]]\n",
    "col1,col2,col3,col4,col5= tf.decode_csv(\n",
    "    v, record_defaults=record_defaults)\n",
    "\n",
    "parsed_v = tf.string_to_number(tf.stack([col1,col2,col3,col4,col5]),out_type=None, name=None)\n",
    "\n",
    "f1= np.empty((1257,1), dtype=object)\n",
    "f2= np.empty((1257,1), dtype=object)\n",
    "f3= np.empty((1257,1), dtype=object)\n",
    "f4= np.empty((1257,1), dtype=object)\n",
    "f5= np.empty((1257,1), dtype=object)\n",
    "f = np.empty((1257,5), dtype=object)\n",
    "\n",
    "with tf.Session() as sess:\n",
    "    coord = tf.train.Coordinator()\n",
    "    threads = tf.train.start_queue_runners(coord=coord)\n",
    "    for i in range(1257):\n",
    "        f1[i][0],f2[i][0],f3[i][0],f4[i][0],f5[i][0] = sess.run(parsed_v)\n",
    "    coord.request_stop()\n",
    "    coord.join(threads)\n",
    "train = [f1[900:1150]]\n",
    "\n",
    "trainX = np.reshape(train, (np.shape(train)[1], 1, np.shape(train)[0]))\n",
    "\n",
    "print(np.shape(train))\n",
    "target = [f1[901:1151]]\n",
    "\n",
    "model = Sequential()\n",
    "\n",
    "model.add(LSTM(\n",
    "    input_dim=1,\n",
    "    output_dim=50,\n",
    "    return_sequences=True))\n",
    "model.add(Dropout(0.2))\n",
    "\n",
    "model.add(LSTM(\n",
    "    300,\n",
    "    return_sequences=False))\n",
    "\n",
    "model.add(Dense(\n",
    "    output_dim=1))\n",
    "model.add(Activation('linear'))\n",
    "\n",
    "model.compile(loss='mse', optimizer='RMSprop')\n",
    "\n",
    "model.fit(\n",
    "    trainX,\n",
    "    target,\n",
    "    batch_size=1,\n",
    "    nb_epoch=30,\n",
    "    validation_split=0)\n",
    "\n",
    "f_1 = np.empty((1258,1), dtype=object)\n",
    "\n",
    "for i in range(0,1257):\n",
    "\ttrain_1 = [f1[i]]\n",
    "\ttrainX_1 = np.reshape(train_1, (np.shape(train_1)[1], 1, np.shape(train_1)[0]))\n",
    "\tf_1[i+1] = model.predict(trainX_1,batch_size = 1)\n",
    "print(f1[1256])\n",
    "print(f_1[1257])\n",
    "   \n",
    "\n",
    "plt.plot(f_1)\n",
    "plt.plot(f1)\n",
    "plt.show()"
   ]
  },
  {
   "cell_type": "code",
   "execution_count": null,
   "metadata": {
    "collapsed": true
   },
   "outputs": [],
   "source": []
  }
 ],
 "metadata": {
  "kernelspec": {
   "display_name": "Python 3",
   "language": "python",
   "name": "python3"
  },
  "language_info": {
   "codemirror_mode": {
    "name": "ipython",
    "version": 3
   },
   "file_extension": ".py",
   "mimetype": "text/x-python",
   "name": "python",
   "nbconvert_exporter": "python",
   "pygments_lexer": "ipython3",
   "version": "3.5.2"
  }
 },
 "nbformat": 4,
 "nbformat_minor": 2
}
